{
 "cells": [
  {
   "cell_type": "code",
   "execution_count": null,
   "id": "hungarian-black",
   "metadata": {},
   "outputs": [],
   "source": [
    "# !pip install easyocr"
   ]
  },
  {
   "cell_type": "code",
   "execution_count": 1,
   "id": "naughty-jungle",
   "metadata": {},
   "outputs": [],
   "source": [
    "import easyocr\n",
    "import PIL"
   ]
  },
  {
   "cell_type": "code",
   "execution_count": 2,
   "id": "transsexual-shaft",
   "metadata": {},
   "outputs": [
    {
     "name": "stderr",
     "output_type": "stream",
     "text": [
      "/home/alee/Documents/EasyOCR/env/lib/python3.6/site-packages/torch/cuda/__init__.py:52: UserWarning: CUDA initialization: Found no NVIDIA driver on your system. Please check that you have an NVIDIA GPU and installed a driver from http://www.nvidia.com/Download/index.aspx (Triggered internally at  /pytorch/c10/cuda/CUDAFunctions.cpp:100.)\n",
      "  return torch._C._cuda_getDeviceCount() > 0\n",
      "CUDA not available - defaulting to CPU. Note: This module is much faster with a GPU.\n",
      "Downloading detection model, please wait. This may take several minutes depending upon your network connection.\n"
     ]
    },
    {
     "name": "stdout",
     "output_type": "stream",
     "text": [
      "Progress: |██████████████████████████████████████████████████| 100.0% Complete\r"
     ]
    },
    {
     "name": "stderr",
     "output_type": "stream",
     "text": [
      "Downloading recognition model, please wait. This may take several minutes depending upon your network connection.\n"
     ]
    },
    {
     "name": "stdout",
     "output_type": "stream",
     "text": [
      "Progress: |██████████████████████████████████████████████████| 100.0% Complete\r"
     ]
    }
   ],
   "source": [
    "reader = easyocr.Reader(['en'])"
   ]
  },
  {
   "cell_type": "code",
   "execution_count": 4,
   "id": "declared-candidate",
   "metadata": {},
   "outputs": [],
   "source": [
    "output = reader.readtext('image.jpeg')"
   ]
  },
  {
   "cell_type": "code",
   "execution_count": 5,
   "id": "equivalent-contribution",
   "metadata": {},
   "outputs": [
    {
     "data": {
      "text/plain": [
       "[([[216, 41], [472, 41], [472, 93], [216, 93]],\n",
       "  'PAKISTAN',\n",
       "  0.9623064398765564),\n",
       " ([[483, 51], [785, 51], [785, 89], [483, 89]],\n",
       "  'National Identity Card',\n",
       "  0.15297546982765198),\n",
       " ([[223, 99], [465, 99], [465, 119], [223, 119]],\n",
       "  'ISLAMIC REPUBLIC OF PAIISTAN',\n",
       "  0.3656651973724365),\n",
       " ([[256, 130], [324, 130], [324, 154], [256, 154]], 'Name', 0.829529881477356),\n",
       " ([[267, 148], [513, 148], [513, 190], [267, 190]],\n",
       "  'Asad Masood Dar',\n",
       "  0.9457954168319702),\n",
       " ([[256, 256], [398, 256], [398, 280], [256, 280]],\n",
       "  'Father Name',\n",
       "  0.8909903168678284),\n",
       " ([[267, 275], [483, 275], [483, 317], [267, 317]],\n",
       "  'Masood Akhtar',\n",
       "  0.36695054173469543),\n",
       " ([[258, 384], [342, 384], [342, 408], [258, 408]],\n",
       "  'Gender',\n",
       "  0.5573621988296509),\n",
       " ([[355, 381], [525, 381], [525, 410], [355, 410]],\n",
       "  'Country of Stay',\n",
       "  0.11144271492958069),\n",
       " ([[270, 416], [300, 416], [300, 448], [270, 448]], 'M', 0.9172102808952332),\n",
       " ([[367, 413], [479, 413], [479, 451], [367, 451]],\n",
       "  'Pglistan',\n",
       "  0.4028628468513489),\n",
       " ([[255, 462], [438, 462], [438, 492], [255, 492]],\n",
       "  'Identity Number',\n",
       "  0.30841392278671265),\n",
       " ([[498, 462], [638, 462], [638, 488], [498, 488]],\n",
       "  'nate of Birth',\n",
       "  0.1890472173690796),\n",
       " ([[267, 486], [483, 486], [483, 531], [267, 531]],\n",
       "  '34201 6130430-9',\n",
       "  0.23248492181301117),\n",
       " ([[509, 489], [649, 489], [649, 527], [509, 527]],\n",
       "  '07,07.1989',\n",
       "  0.4040023982524872),\n",
       " ([[57, 517], [194, 517], [194, 566], [57, 566]], '48642', 0.5699253082275391),\n",
       " ([[258, 538], [398, 538], [398, 562], [258, 562]],\n",
       "  'Date of Issue',\n",
       "  0.3294040262699127),\n",
       " ([[500, 536], [652, 536], [652, 564], [500, 564]],\n",
       "  'Date of Expiry',\n",
       "  0.5980991125106812),\n",
       " ([[269, 563], [409, 563], [409, 601], [269, 601]],\n",
       "  '18.02.2014',\n",
       "  0.45597130060195923),\n",
       " ([[511, 563], [649, 563], [649, 599], [511, 599]],\n",
       "  '18.02.2021',\n",
       "  0.2643657922744751),\n",
       " ([[713, 587], [913, 587], [913, 624], [713, 624]],\n",
       "  'Holder s Signature',\n",
       "  0.33859583735466003)]"
      ]
     },
     "execution_count": 5,
     "metadata": {},
     "output_type": "execute_result"
    }
   ],
   "source": [
    "output"
   ]
  },
  {
   "cell_type": "code",
   "execution_count": 28,
   "id": "flexible-chapel",
   "metadata": {},
   "outputs": [
    {
     "name": "stdout",
     "output_type": "stream",
     "text": [
      "Name:Asad Masood Dar\n",
      "Father Name:Masood Akhtar\n",
      "Gender:M\n",
      "Country of Stay:Pglistan\n",
      "Identity Number:34201 6130430-9\n",
      "nate of Birth:07,07.1989\n",
      "Date of Issue:18.02.2014\n",
      "Date of Expiry:18.02.2021\n"
     ]
    }
   ],
   "source": [
    "print(output[3][1]+\":\"+output[4][1])\n",
    "print(output[5][1]+\":\"+output[6][1])\n",
    "print(output[7][1]+\":\"+output[9][1])\n",
    "print(output[8][1]+\":\"+output[10][1])\n",
    "print(output[11][1]+\":\"+output[13][1])\n",
    "print(output[12][1]+\":\"+output[14][1])\n",
    "print(output[16][1]+\":\"+output[18][1])\n",
    "print(output[17][1]+\":\"+output[19][1])"
   ]
  },
  {
   "cell_type": "code",
   "execution_count": null,
   "id": "worse-cassette",
   "metadata": {},
   "outputs": [],
   "source": []
  }
 ],
 "metadata": {
  "kernelspec": {
   "display_name": "Python 3",
   "language": "python",
   "name": "python3"
  },
  "language_info": {
   "codemirror_mode": {
    "name": "ipython",
    "version": 3
   },
   "file_extension": ".py",
   "mimetype": "text/x-python",
   "name": "python",
   "nbconvert_exporter": "python",
   "pygments_lexer": "ipython3",
   "version": "3.6.8"
  }
 },
 "nbformat": 4,
 "nbformat_minor": 5
}
